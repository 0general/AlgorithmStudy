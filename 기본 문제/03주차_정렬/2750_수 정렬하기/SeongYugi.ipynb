{
 "cells": [
  {
   "cell_type": "code",
   "execution_count": 23,
   "metadata": {},
   "outputs": [
    {
     "name": "stdout",
     "output_type": "stream",
     "text": [
      "5\n",
      "5\n",
      "4\n",
      "3\n",
      "2\n",
      "1\n",
      "1\n",
      "2\n",
      "3\n",
      "4\n",
      "5\n"
     ]
    }
   ],
   "source": [
    "N = int(input()) # N개의 수를 입력받는다(입력조건)\n",
    "arr =[] \n",
    "\n",
    "for i in range(N) :\n",
    "    num = int(input())\n",
    "    arr.append(num)  # N개만큼 입력하여 arr 배열에 저장\n",
    "\n",
    "#선택정렬\n",
    "for j in range(len(arr)) :  # 배열의 길이만큼 반복\n",
    "    min_index = j    # 가장 작은 원소의 인덱스를 맨 처음 원소로 저장 // min_index= 0                \n",
    "    \n",
    "    for k in range(j+1,len(arr)) : # 탐색범위 반복할때마다 비교 범위 하나씩 줄어듦  // k = 1  /  2  / 3 / 4                \n",
    "        if arr[min_index] > arr[k] :  # 현재 가장 작은 원소보다 더 작은 값(인덱스 k)이 있다면 // 5 > 4  / 4 > 3  / 3 > 2 / 2 > 1\n",
    "            min_index = k  # 그 위치 인덱스값(k)이 최소 인덱스(min_index) 값으로 담기도록  // min_index = 1  / 2  / 3 / 4\n",
    "            \n",
    "    arr[j], arr[min_index] = arr[min_index], arr[j] # 가장 앞쪽 원소와 가장 작은 원소의 값을 바꿔줌 // 바깥for문 처음 안쪽 for문 다 돈 후엔 5 , 1 =>  1 , 5 로 변경\n",
    "    \n",
    "\n",
    "for l in arr :\n",
    "    print(l)"
   ]
  },
  {
   "cell_type": "code",
   "execution_count": null,
   "metadata": {},
   "outputs": [],
   "source": []
  }
 ],
 "metadata": {
  "kernelspec": {
   "display_name": "Python 3",
   "language": "python",
   "name": "python3"
  },
  "language_info": {
   "codemirror_mode": {
    "name": "ipython",
    "version": 3
   },
   "file_extension": ".py",
   "mimetype": "text/x-python",
   "name": "python",
   "nbconvert_exporter": "python",
   "pygments_lexer": "ipython3",
   "version": "3.8.5"
  }
 },
 "nbformat": 4,
 "nbformat_minor": 4
}
